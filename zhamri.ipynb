{
  "nbformat": 4,
  "nbformat_minor": 0,
  "metadata": {
    "colab": {
      "name": "zhamri.ipynb",
      "provenance": [],
      "authorship_tag": "ABX9TyNn5OmpHlseo6f3Ru7BljVi",
      "include_colab_link": true
    },
    "kernelspec": {
      "name": "python3",
      "display_name": "Python 3"
    }
  },
  "cells": [
    {
      "cell_type": "markdown",
      "metadata": {
        "id": "view-in-github",
        "colab_type": "text"
      },
      "source": [
        "<a href=\"https://colab.research.google.com/github/zhamri/Test99/blob/master/zhamri.ipynb\" target=\"_parent\"><img src=\"https://colab.research.google.com/assets/colab-badge.svg\" alt=\"Open In Colab\"/></a>"
      ]
    },
    {
      "cell_type": "markdown",
      "metadata": {
        "id": "4OXLfNSx8fxz",
        "colab_type": "text"
      },
      "source": [
        "# This is a TEST"
      ]
    },
    {
      "cell_type": "code",
      "metadata": {
        "id": "gkLzZBnx8K78",
        "colab_type": "code",
        "colab": {
          "base_uri": "https://localhost:8080/",
          "height": 34
        },
        "outputId": "129a6c63-9df9-494b-8b3d-c12c9a44aaff"
      },
      "source": [
        "print(\"Hello World\")"
      ],
      "execution_count": null,
      "outputs": [
        {
          "output_type": "stream",
          "text": [
            "Hello World\n"
          ],
          "name": "stdout"
        }
      ]
    },
    {
      "cell_type": "markdown",
      "metadata": {
        "id": "tFWVarJZ9E7S",
        "colab_type": "text"
      },
      "source": [
        "# The End"
      ]
    },
    {
      "cell_type": "code",
      "metadata": {
        "id": "aHKejw0C8Wog",
        "colab_type": "code",
        "colab": {}
      },
      "source": [
        ""
      ],
      "execution_count": null,
      "outputs": []
    }
  ]
}